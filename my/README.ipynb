{
 "cells": [
  {
   "metadata": {},
   "cell_type": "markdown",
   "source": "# Command",
   "id": "74673391582f5f4c"
  },
  {
   "metadata": {
    "collapsed": true
   },
   "cell_type": "code",
   "source": "!docker compose build # [--pull] [--no-cache]",
   "id": "initial_id",
   "outputs": [],
   "execution_count": null
  },
  {
   "metadata": {},
   "cell_type": "code",
   "source": "!docker compose run --rm gtest make clean",
   "id": "b154f0ceef3c8654",
   "outputs": [],
   "execution_count": null
  },
  {
   "metadata": {},
   "cell_type": "code",
   "source": "!docker compose run --rm gtest make q04_01",
   "id": "6c07cfe7d27ebb2d",
   "outputs": [],
   "execution_count": null
  },
  {
   "metadata": {},
   "cell_type": "code",
   "source": "!docker compose run --rm gtest make -j4",
   "id": "d05cff90f426c752",
   "outputs": [],
   "execution_count": null
  },
  {
   "metadata": {},
   "cell_type": "code",
   "source": "!docker compose run --rm gtest make testall",
   "id": "955cd1e63a2feefc",
   "outputs": [],
   "execution_count": null
  },
  {
   "metadata": {},
   "cell_type": "markdown",
   "source": "## Arch Linux",
   "id": "819e2235f74fd6ea"
  },
  {
   "metadata": {},
   "cell_type": "code",
   "source": "!docker compose run --rm gtest make 23clean",
   "id": "3e1433d163439ad3",
   "outputs": [],
   "execution_count": null
  },
  {
   "metadata": {},
   "cell_type": "code",
   "source": "!docker compose run --rm gtest make 23 -j4",
   "id": "afdc20904f5906de",
   "outputs": [],
   "execution_count": null
  },
  {
   "metadata": {},
   "cell_type": "code",
   "source": "!docker compose run --rm gtest make 23testall",
   "id": "ae8922938863e711",
   "outputs": [],
   "execution_count": null
  },
  {
   "metadata": {},
   "cell_type": "markdown",
   "source": "## Mac",
   "id": "118c679a07695795"
  },
  {
   "metadata": {},
   "cell_type": "code",
   "source": "!make 2bclean",
   "id": "82a5804a8aa2d083",
   "outputs": [],
   "execution_count": null
  },
  {
   "metadata": {},
   "cell_type": "code",
   "source": "!make 2b -j4",
   "id": "7360f9a39b5cf5fd",
   "outputs": [],
   "execution_count": null
  },
  {
   "metadata": {},
   "cell_type": "code",
   "source": "!make 2btestall",
   "id": "1004f008beed80de",
   "outputs": [],
   "execution_count": null
  },
  {
   "metadata": {},
   "cell_type": "markdown",
   "source": [
    "# ToDo \n",
    "- [ ] Boost Graph"
   ],
   "id": "e79bd0340bec9e7b"
  }
 ],
 "metadata": {
  "kernelspec": {
   "display_name": "Python 3",
   "language": "python",
   "name": "python3"
  },
  "language_info": {
   "codemirror_mode": {
    "name": "ipython",
    "version": 2
   },
   "file_extension": ".py",
   "mimetype": "text/x-python",
   "name": "python",
   "nbconvert_exporter": "python",
   "pygments_lexer": "ipython2",
   "version": "2.7.6"
  }
 },
 "nbformat": 4,
 "nbformat_minor": 5
}
